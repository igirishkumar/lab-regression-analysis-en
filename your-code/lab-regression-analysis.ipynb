{
 "cells": [
  {
   "cell_type": "markdown",
   "metadata": {},
   "source": [
    "# Lab: Regression Analysis"
   ]
  },
  {
   "cell_type": "markdown",
   "metadata": {},
   "source": [
    "### Before you start:\n",
    "\n",
    "* Read the README.md file\n",
    "* Comment as much as you can and use the resources (README.md file) \n",
    "\n",
    "Happy learning!"
   ]
  },
  {
   "cell_type": "markdown",
   "metadata": {},
   "source": [
    "## Challenge 1\n",
    "I work at a coding bootcamp, and I have developed a theory that the younger my students are, the more often they are late to class. In order to test my hypothesis, I have collected some data in the following table:\n",
    "\n",
    "| StudentID | Age | Tardies |\n",
    "|--------|-----|------------|\n",
    "| 1      | 17  | 10         |\n",
    "| 2      | 51  | 1          |\n",
    "| 3      | 27  | 5          |\n",
    "| 4      | 21  | 9         |\n",
    "| 5      | 36  |  4         |\n",
    "| 6      | 48  |  2         |\n",
    "| 7      | 19  |  9         |\n",
    "| 8      | 26  | 6          |\n",
    "| 9      | 54  |  0         |\n",
    "| 10     | 30  |  3         |"
   ]
  },
  {
   "cell_type": "code",
   "execution_count": 37,
   "metadata": {},
   "outputs": [],
   "source": [
    "import pandas as pd\n",
    "import numpy as np\n",
    "import plotly.express as px\n",
    "import statsmodels.formula.api as smf\n",
    "from sklearn.linear_model import LinearRegression\n",
    "import matplotlib.pyplot as plt\n",
    "import seaborn as sns"
   ]
  },
  {
   "cell_type": "markdown",
   "metadata": {},
   "source": [
    "Use this command to create a dataframe with the data provided in the table. \n",
    "~~~~\n",
    "student_data = pd.DataFrame({'Age': [17,51,27,21,36,48,19,26,54,30], 'Tardies': [10,1,5,9,4,2,9,6,0,3]})\n",
    "~~~~"
   ]
  },
  {
   "cell_type": "code",
   "execution_count": 38,
   "metadata": {},
   "outputs": [
    {
     "data": {
      "text/html": [
       "<div>\n",
       "<style scoped>\n",
       "    .dataframe tbody tr th:only-of-type {\n",
       "        vertical-align: middle;\n",
       "    }\n",
       "\n",
       "    .dataframe tbody tr th {\n",
       "        vertical-align: top;\n",
       "    }\n",
       "\n",
       "    .dataframe thead th {\n",
       "        text-align: right;\n",
       "    }\n",
       "</style>\n",
       "<table border=\"1\" class=\"dataframe\">\n",
       "  <thead>\n",
       "    <tr style=\"text-align: right;\">\n",
       "      <th></th>\n",
       "      <th>Age</th>\n",
       "      <th>Tardies</th>\n",
       "    </tr>\n",
       "  </thead>\n",
       "  <tbody>\n",
       "    <tr>\n",
       "      <th>0</th>\n",
       "      <td>17</td>\n",
       "      <td>10</td>\n",
       "    </tr>\n",
       "    <tr>\n",
       "      <th>1</th>\n",
       "      <td>51</td>\n",
       "      <td>1</td>\n",
       "    </tr>\n",
       "    <tr>\n",
       "      <th>2</th>\n",
       "      <td>27</td>\n",
       "      <td>5</td>\n",
       "    </tr>\n",
       "    <tr>\n",
       "      <th>3</th>\n",
       "      <td>21</td>\n",
       "      <td>9</td>\n",
       "    </tr>\n",
       "    <tr>\n",
       "      <th>4</th>\n",
       "      <td>36</td>\n",
       "      <td>4</td>\n",
       "    </tr>\n",
       "    <tr>\n",
       "      <th>5</th>\n",
       "      <td>48</td>\n",
       "      <td>2</td>\n",
       "    </tr>\n",
       "    <tr>\n",
       "      <th>6</th>\n",
       "      <td>19</td>\n",
       "      <td>9</td>\n",
       "    </tr>\n",
       "    <tr>\n",
       "      <th>7</th>\n",
       "      <td>26</td>\n",
       "      <td>6</td>\n",
       "    </tr>\n",
       "    <tr>\n",
       "      <th>8</th>\n",
       "      <td>54</td>\n",
       "      <td>0</td>\n",
       "    </tr>\n",
       "    <tr>\n",
       "      <th>9</th>\n",
       "      <td>30</td>\n",
       "      <td>3</td>\n",
       "    </tr>\n",
       "  </tbody>\n",
       "</table>\n",
       "</div>"
      ],
      "text/plain": [
       "   Age  Tardies\n",
       "0   17       10\n",
       "1   51        1\n",
       "2   27        5\n",
       "3   21        9\n",
       "4   36        4\n",
       "5   48        2\n",
       "6   19        9\n",
       "7   26        6\n",
       "8   54        0\n",
       "9   30        3"
      ]
     },
     "execution_count": 38,
     "metadata": {},
     "output_type": "execute_result"
    }
   ],
   "source": [
    "student_data = pd.DataFrame({'Age': [17,51,27,21,36,48,19,26,54,30], 'Tardies': [10,1,5,9,4,2,9,6,0,3]})\n",
    "student_data"
   ]
  },
  {
   "cell_type": "markdown",
   "metadata": {},
   "source": [
    "Draw a dispersion diagram (scatter plot) for the data."
   ]
  },
  {
   "cell_type": "code",
   "execution_count": 39,
   "metadata": {},
   "outputs": [
    {
     "data": {
      "image/png": "[encoded data removed]",
      "text/plain": [
       "<Figure size 640x480 with 1 Axes>"
      ]
     },
     "metadata": {},
     "output_type": "display_data"
    }
   ],
   "source": [
    "plt.scatter(student_data[\"Age\"], student_data[\"Tardies\"])\n",
    "plt.xlabel(\"Age\")\n",
    "plt.ylabel(\"Tardies\")\n",
    "plt.title(\"Age vs Tardies\")\n",
    "plt.show()"
   ]
  },
  {
   "cell_type": "markdown",
   "metadata": {},
   "source": [
    "Younger individuals (around age 18–25) tend to have more tardies — often 8 to 10.\n",
    "\n",
    "Older individuals (around age 45–55) have fewer tardies, approaching zero."
   ]
  },
  {
   "cell_type": "markdown",
   "metadata": {},
   "source": [
    "Do you see a trend? Can you make any hypotheses about the relationship between age and number of tardies?"
   ]
  },
  {
   "cell_type": "markdown",
   "metadata": {},
   "source": [
    "As people age, they become more responsible and punctual, leading to fewer tardies."
   ]
  },
  {
   "cell_type": "markdown",
   "metadata": {},
   "source": []
  },
  {
   "cell_type": "markdown",
   "metadata": {},
   "source": [
    "Calculate the covariance and correlation of the variables in your plot. What is the difference between these two measures? Compare their values. What do they tell you in this case? Add your responses as comments after your code."
   ]
  },
  {
   "cell_type": "code",
   "execution_count": 40,
   "metadata": {},
   "outputs": [
    {
     "name": "stdout",
     "output_type": "stream",
     "text": [
      "Covariance: -45.56666666666666\n",
      "Correlation: -0.9391626886887122\n"
     ]
    }
   ],
   "source": [
    "# Covariance\n",
    "cov_matrix = np.cov(student_data['Age'], student_data['Tardies'])\n",
    "covariance = cov_matrix[0, 1]\n",
    "\n",
    "# Correlation\n",
    "correlation = np.corrcoef(student_data['Age'], student_data['Tardies'])[0, 1]\n",
    "\n",
    "print(\"Covariance:\", covariance)\n",
    "print(\"Correlation:\", correlation)\n",
    "\n",
    "# --- Comments ---\n",
    "# Covariance measures how two variables vary together.\n",
    "# A negative covariance here means that as Age increases, Tardies tend to decrease.\n",
    "# However, covariance is scale-dependent and hard to interpret on its own.\n",
    "\n",
    "# Correlation standardizes this relationship between -1 and 1.\n",
    "# A correlation close to -1 indicates a strong negative linear relationship.\n",
    "# In this case, the correlation is strongly negative, confirming the downward trend in the scatter plot."
   ]
  },
  {
   "cell_type": "markdown",
   "metadata": {},
   "source": [
    "Build a regression model for this data. What will be your outcome variable? What type of regression are you using? Add your responses as comments after your code."
   ]
  },
  {
   "cell_type": "code",
   "execution_count": 53,
   "metadata": {},
   "outputs": [
    {
     "name": "stdout",
     "output_type": "stream",
     "text": [
      "[ 8.76085026  0.50494405  6.33264255  7.78956717  4.14725561  1.23340636\n",
      "  8.27520872  6.57546332 -0.22351827  5.60418024]\n"
     ]
    }
   ],
   "source": [
    "\n",
    "age = student_data['Age'].values.reshape(-1, 1)  # Reshape to 2D\n",
    "tardies = student_data['Tardies'].values        # Target variable\n",
    "\n",
    "\n",
    "model = LinearRegression()\n",
    "model.fit(age, tardies)\n",
    "\n",
    "\n",
    "predicted_tardies = model.predict(age)\n",
    "print(predicted_tardies)\n",
    "\n"
   ]
  },
  {
   "cell_type": "markdown",
   "metadata": {},
   "source": [
    "Plot your regression model on your scatter plot."
   ]
  },
  {
   "cell_type": "code",
   "execution_count": 42,
   "metadata": {},
   "outputs": [
    {
     "data": {
      "image/png": "[encoded data removed]",
      "text/plain": [
       "<Figure size 640x480 with 1 Axes>"
      ]
     },
     "metadata": {},
     "output_type": "display_data"
    }
   ],
   "source": [
    "plt.scatter(age, tardies, label=\"Actual Data\")\n",
    "plt.plot(age, predicted_tardies, color='red', label=\"Regression Line\")\n",
    "plt.xlabel(\"Age\")\n",
    "plt.ylabel(\"Tardies\")\n",
    "plt.title(\"Linear Regression: Age vs Tardies\")\n",
    "plt.legend()\n",
    "plt.show()\n",
    "\n"
   ]
  },
  {
   "cell_type": "markdown",
   "metadata": {},
   "source": [
    "Interpret the results of your model. What can conclusions can you draw from your model and how confident in these conclusions are you? Can we say that age is a good predictor of tardiness? Add your responses as comments after your code."
   ]
  },
  {
   "cell_type": "markdown",
   "metadata": {},
   "source": [
    "\n",
    "Outcome variable: Tardies (this is what we're trying to predict)\n",
    "\n",
    "Predictor variable: Age (this is the input feature)\n",
    "\n",
    "Type of regression: Simple Linear Regression (because we have one predictor and assume a linear relationship)\n",
    "\n",
    "This model helps us understand how tardiness changes with age.\n",
    "\n",
    "Based on the scatter plot and fitted line, we expect a negative slope — older individuals tend to have fewer tardies.\n"
   ]
  },
  {
   "cell_type": "markdown",
   "metadata": {},
   "source": [
    "## Challenge 2\n",
    "For the second part of this lab, we will use the vehicles.csv data set. You can find a copy of the dataset in the git hub folder. This dataset includes variables related to vehicle characteristics, including the model, make, and energy efficiency standards, as well as each car's CO2 emissions. As discussed in class the goal of this exercise is to predict vehicles' CO2 emissions based on several independent variables. "
   ]
  },
  {
   "cell_type": "code",
   "execution_count": 43,
   "metadata": {},
   "outputs": [
    {
     "data": {
      "text/html": [
       "<div>\n",
       "<style scoped>\n",
       "    .dataframe tbody tr th:only-of-type {\n",
       "        vertical-align: middle;\n",
       "    }\n",
       "\n",
       "    .dataframe tbody tr th {\n",
       "        vertical-align: top;\n",
       "    }\n",
       "\n",
       "    .dataframe thead th {\n",
       "        text-align: right;\n",
       "    }\n",
       "</style>\n",
       "<table border=\"1\" class=\"dataframe\">\n",
       "  <thead>\n",
       "    <tr style=\"text-align: right;\">\n",
       "      <th></th>\n",
       "      <th>Make</th>\n",
       "      <th>Model</th>\n",
       "      <th>Year</th>\n",
       "      <th>Engine Displacement</th>\n",
       "      <th>Cylinders</th>\n",
       "      <th>Transmission</th>\n",
       "      <th>Drivetrain</th>\n",
       "      <th>Vehicle Class</th>\n",
       "      <th>Fuel Type</th>\n",
       "      <th>Fuel Barrels/Year</th>\n",
       "      <th>City MPG</th>\n",
       "      <th>Highway MPG</th>\n",
       "      <th>Combined MPG</th>\n",
       "      <th>CO2 Emission Grams/Mile</th>\n",
       "      <th>Fuel Cost/Year</th>\n",
       "    </tr>\n",
       "  </thead>\n",
       "  <tbody>\n",
       "    <tr>\n",
       "      <th>0</th>\n",
       "      <td>AM General</td>\n",
       "      <td>DJ Po Vehicle 2WD</td>\n",
       "      <td>1984</td>\n",
       "      <td>2.5</td>\n",
       "      <td>4.0</td>\n",
       "      <td>Automatic 3-spd</td>\n",
       "      <td>2-Wheel Drive</td>\n",
       "      <td>Special Purpose Vehicle 2WD</td>\n",
       "      <td>Regular</td>\n",
       "      <td>19.388824</td>\n",
       "      <td>18</td>\n",
       "      <td>17</td>\n",
       "      <td>17</td>\n",
       "      <td>522.764706</td>\n",
       "      <td>1950</td>\n",
       "    </tr>\n",
       "    <tr>\n",
       "      <th>1</th>\n",
       "      <td>AM General</td>\n",
       "      <td>FJ8c Post Office</td>\n",
       "      <td>1984</td>\n",
       "      <td>4.2</td>\n",
       "      <td>6.0</td>\n",
       "      <td>Automatic 3-spd</td>\n",
       "      <td>2-Wheel Drive</td>\n",
       "      <td>Special Purpose Vehicle 2WD</td>\n",
       "      <td>Regular</td>\n",
       "      <td>25.354615</td>\n",
       "      <td>13</td>\n",
       "      <td>13</td>\n",
       "      <td>13</td>\n",
       "      <td>683.615385</td>\n",
       "      <td>2550</td>\n",
       "    </tr>\n",
       "    <tr>\n",
       "      <th>2</th>\n",
       "      <td>AM General</td>\n",
       "      <td>Post Office DJ5 2WD</td>\n",
       "      <td>1985</td>\n",
       "      <td>2.5</td>\n",
       "      <td>4.0</td>\n",
       "      <td>Automatic 3-spd</td>\n",
       "      <td>Rear-Wheel Drive</td>\n",
       "      <td>Special Purpose Vehicle 2WD</td>\n",
       "      <td>Regular</td>\n",
       "      <td>20.600625</td>\n",
       "      <td>16</td>\n",
       "      <td>17</td>\n",
       "      <td>16</td>\n",
       "      <td>555.437500</td>\n",
       "      <td>2100</td>\n",
       "    </tr>\n",
       "    <tr>\n",
       "      <th>3</th>\n",
       "      <td>AM General</td>\n",
       "      <td>Post Office DJ8 2WD</td>\n",
       "      <td>1985</td>\n",
       "      <td>4.2</td>\n",
       "      <td>6.0</td>\n",
       "      <td>Automatic 3-spd</td>\n",
       "      <td>Rear-Wheel Drive</td>\n",
       "      <td>Special Purpose Vehicle 2WD</td>\n",
       "      <td>Regular</td>\n",
       "      <td>25.354615</td>\n",
       "      <td>13</td>\n",
       "      <td>13</td>\n",
       "      <td>13</td>\n",
       "      <td>683.615385</td>\n",
       "      <td>2550</td>\n",
       "    </tr>\n",
       "    <tr>\n",
       "      <th>4</th>\n",
       "      <td>ASC Incorporated</td>\n",
       "      <td>GNX</td>\n",
       "      <td>1987</td>\n",
       "      <td>3.8</td>\n",
       "      <td>6.0</td>\n",
       "      <td>Automatic 4-spd</td>\n",
       "      <td>Rear-Wheel Drive</td>\n",
       "      <td>Midsize Cars</td>\n",
       "      <td>Premium</td>\n",
       "      <td>20.600625</td>\n",
       "      <td>14</td>\n",
       "      <td>21</td>\n",
       "      <td>16</td>\n",
       "      <td>555.437500</td>\n",
       "      <td>2550</td>\n",
       "    </tr>\n",
       "  </tbody>\n",
       "</table>\n",
       "</div>"
      ],
      "text/plain": [
       "               Make                Model  Year  Engine Displacement  \\\n",
       "0        AM General    DJ Po Vehicle 2WD  1984                  2.5   \n",
       "1        AM General     FJ8c Post Office  1984                  4.2   \n",
       "2        AM General  Post Office DJ5 2WD  1985                  2.5   \n",
       "3        AM General  Post Office DJ8 2WD  1985                  4.2   \n",
       "4  ASC Incorporated                  GNX  1987                  3.8   \n",
       "\n",
       "   Cylinders     Transmission        Drivetrain                Vehicle Class  \\\n",
       "0        4.0  Automatic 3-spd     2-Wheel Drive  Special Purpose Vehicle 2WD   \n",
       "1        6.0  Automatic 3-spd     2-Wheel Drive  Special Purpose Vehicle 2WD   \n",
       "2        4.0  Automatic 3-spd  Rear-Wheel Drive  Special Purpose Vehicle 2WD   \n",
       "3        6.0  Automatic 3-spd  Rear-Wheel Drive  Special Purpose Vehicle 2WD   \n",
       "4        6.0  Automatic 4-spd  Rear-Wheel Drive                 Midsize Cars   \n",
       "\n",
       "  Fuel Type  Fuel Barrels/Year  City MPG  Highway MPG  Combined MPG  \\\n",
       "0   Regular          19.388824        18           17            17   \n",
       "1   Regular          25.354615        13           13            13   \n",
       "2   Regular          20.600625        16           17            16   \n",
       "3   Regular          25.354615        13           13            13   \n",
       "4   Premium          20.600625        14           21            16   \n",
       "\n",
       "   CO2 Emission Grams/Mile  Fuel Cost/Year  \n",
       "0               522.764706            1950  \n",
       "1               683.615385            2550  \n",
       "2               555.437500            2100  \n",
       "3               683.615385            2550  \n",
       "4               555.437500            2550  "
      ]
     },
     "execution_count": 43,
     "metadata": {},
     "output_type": "execute_result"
    }
   ],
   "source": [
    "# Import any libraries you may need & the data\n",
    "vehicles = pd.read_csv(\"../vehicles.csv\")\n",
    "vehicles.head()"
   ]
  },
  {
   "cell_type": "markdown",
   "metadata": {},
   "source": [
    "Let's use the following variables for our analysis: Year, Cylinders, Fuel Barrels/Year, Combined MPG, and Fuel Cost/Year. We will use 'CO2 Emission Grams/Mile' as our outcome variable. \n",
    "\n",
    "Calculate the correlations between each of these variables and the outcome. Which variable do you think will be the most important in determining CO2 emissions? Which provides the least amount of helpful information for determining CO2 emissions? Add your responses as comments after your code."
   ]
  },
  {
   "cell_type": "code",
   "execution_count": 44,
   "metadata": {},
   "outputs": [
    {
     "name": "stdout",
     "output_type": "stream",
     "text": [
      "Correlations with CO2 Emission Grams/Mile:\n",
      "Year                -0.222300\n",
      "Cylinders            0.752393\n",
      "Fuel Barrels/Year    0.986189\n",
      "Combined MPG        -0.926229\n",
      "Fuel Cost/Year       0.930865\n",
      "Name: CO2 Emission Grams/Mile, dtype: float64\n"
     ]
    }
   ],
   "source": [
    "import pandas as pd\n",
    "\n",
    "# Assuming you have a DataFrame called 'df' with the relevant columns\n",
    "columns_to_check = ['Year', 'Cylinders', 'Fuel Barrels/Year', 'Combined MPG', 'Fuel Cost/Year', 'CO2 Emission Grams/Mile']\n",
    "\n",
    "# Subset the DataFrame\n",
    "subset = vehicles[columns_to_check]\n",
    "\n",
    "# Calculate correlation matrix\n",
    "correlation_matrix = subset.corr()\n",
    "\n",
    "# Extract correlations with the outcome variable\n",
    "correlations_with_co2 = correlation_matrix['CO2 Emission Grams/Mile'].drop('CO2 Emission Grams/Mile')\n",
    "\n",
    "print(\"Correlations with CO2 Emission Grams/Mile:\")\n",
    "print(correlations_with_co2)\n",
    "\n",
    "# --- Comments ---\n",
    "# This calculates Pearson correlation coefficients between each predictor and CO2 emissions.\n",
    "# A positive correlation means the variable increases as CO2 emissions increase.\n",
    "# A negative correlation means the variable decreases as CO2 emissions increase.\n",
    "\n",
    "# Based on typical vehicle data:\n",
    "# - Fuel Barrels/Year is likely to have a strong positive correlation (more fuel burned → more CO2).\n",
    "# - Combined MPG is likely to have a strong negative correlation (better fuel efficiency → less CO2).\n",
    "# - Fuel Cost/Year may also correlate positively, but it's influenced by fuel price, not just consumption.\n",
    "# - Cylinders may show moderate positive correlation (more cylinders → more fuel burned).\n",
    "# - Year may have weak or inconsistent correlation (newer cars might be cleaner, but not always).\n",
    "\n",
    "# Most important variable: Fuel Barrels/Year — directly tied to fuel consumption and emissions.\n",
    "# Least helpful variable: Year — may not consistently predict emissions due to mixed technology trends.\n"
   ]
  },
  {
   "cell_type": "markdown",
   "metadata": {},
   "source": [
    "Build a regression model for this data. What type of regression are you using? Add your responses as comments after your code."
   ]
  },
  {
   "cell_type": "code",
   "execution_count": 45,
   "metadata": {},
   "outputs": [
    {
     "name": "stdout",
     "output_type": "stream",
     "text": [
      "R² Score: 0.9794542628636334\n",
      "Mean Squared Error: 289.82774408137794\n",
      "Coefficients: [-0.31558675  1.79402632 19.23102729 -2.9335732   0.03197145]\n",
      "Intercept: 755.6935073143304\n"
     ]
    }
   ],
   "source": [
    "import pandas as pd\n",
    "from sklearn.linear_model import LinearRegression\n",
    "from sklearn.model_selection import train_test_split\n",
    "from sklearn.metrics import r2_score, mean_squared_error\n",
    "\n",
    "# Step 1: Select relevant columns\n",
    "features = ['Year', 'Cylinders', 'Fuel Barrels/Year', 'Combined MPG', 'Fuel Cost/Year']\n",
    "target = 'CO2 Emission Grams/Mile'\n",
    "\n",
    "X = vehicles[features]\n",
    "y = vehicles[target]\n",
    "\n",
    "# Step 2: Split into training and testing sets\n",
    "X_train, X_test, y_train, y_test = train_test_split(X, y, test_size=0.2, random_state=42)\n",
    "\n",
    "# Step 3: Build and train the model\n",
    "model = LinearRegression()\n",
    "model.fit(X_train, y_train)\n",
    "\n",
    "# Step 4: Make predictions\n",
    "y_pred = model.predict(X_test)\n",
    "\n",
    "# Step 5: Evaluate the model\n",
    "r2 = r2_score(y_test, y_pred)\n",
    "mse = mean_squared_error(y_test, y_pred)\n",
    "\n",
    "print(\"R² Score:\", r2)\n",
    "print(\"Mean Squared Error:\", mse)\n",
    "print(\"Coefficients:\", model.coef_)\n",
    "print(\"Intercept:\", model.intercept_)"
   ]
  },
  {
   "cell_type": "code",
   "execution_count": 46,
   "metadata": {},
   "outputs": [],
   "source": [
    "# import statsmodels.api as sm\n",
    "# ols_model = sm.OLS(y_train, X_train).fit()\n",
    "# ols_summary = ols_model.summary()\n",
    "# print(ols_summary)"
   ]
  },
  {
   "cell_type": "markdown",
   "metadata": {},
   "source": [
    "Print your regression summary, and interpret the results. What are the most important varibles in your model and why? What can conclusions can you draw from your model and how confident in these conclusions are you? Add your responses as comments after your code."
   ]
  },
  {
   "cell_type": "code",
   "execution_count": 47,
   "metadata": {},
   "outputs": [],
   "source": [
    "\n",
    "\n",
    "# --- Comments ---\n",
    "# Regression Summary:\n",
    "# R² Score: 0.979 → This means the model explains 97.9% of the variance in CO2 emissions.\n",
    "# That’s an excellent fit — very high explanatory power.\n",
    "\n",
    "# Mean Squared Error (MSE): 289.83 → On average, the squared error between predicted and actual CO2 emissions is ~290.\n",
    "# This is relatively low, suggesting accurate predictions.\n",
    "\n",
    "# Intercept: 755.69 → This is the baseline CO2 emission when all predictors are zero.\n",
    "# Not meaningful on its own, but necessary for the equation.\n",
    "\n",
    "# Coefficients:\n",
    "# Year: -0.316 → Slight negative impact; newer cars tend to emit slightly less CO2.\n",
    "# Cylinders: +1.794 → More cylinders → more fuel burned → more CO2.\n",
    "# Fuel Barrels/Year: +19.231 → Strong positive impact; more fuel consumed → much higher CO2 emissions.\n",
    "# Combined MPG: -2.934 → Higher MPG → lower CO2 emissions. Strong negative relationship.\n",
    "# Fuel Cost/Year: +0.032 → Slight positive impact; more money spent on fuel → slightly higher emissions.\n",
    "\n",
    "# --- Interpretation ---\n",
    "# Most important variable: Fuel Barrels/Year → It has the largest positive coefficient (19.23), meaning it’s the strongest predictor of CO2 emissions.\n",
    "# Least helpful variable: Fuel Cost/Year → Very small coefficient (0.032), and it may be influenced by fuel prices rather than actual consumption.\n",
    "\n",
    "# --- Conclusions ---\n",
    "# Vehicles that consume more fuel (low MPG, high barrels/year) emit significantly more CO2.\n",
    "# Engine size (cylinders) also contributes, but less than direct fuel consumption.\n",
    "# Newer vehicles tend to emit slightly less CO2, possibly due to improved technology.\n",
    "# The model is highly reliable (R² = 0.979), so we can be confident in these conclusions for this dataset.\n",
    "\n",
    "# --- Next Steps ---\n",
    "# You could validate this model on a separate dataset or use cross-validation to confirm robustness.\n",
    "# Feature importance plots or SHAP values could help visualize these relationships.\n"
   ]
  },
  {
   "cell_type": "markdown",
   "metadata": {},
   "source": [
    "## Bonus Challenge: Error Analysis"
   ]
  },
  {
   "cell_type": "markdown",
   "metadata": {},
   "source": [
    "I am suspicious about the last few parties I have thrown: it seems that the more people I invite the more people are unable to attend. To know if my hunch is supported by data, I have decided to do an analysis. I have collected my data in the table below, where X is the number of people I invited, and Y is the number of people who attended. \n",
    "\n",
    "|  X |  Y |\n",
    "|----|----|\n",
    "| 1  |  1 |\n",
    "| 3  |  2 |\n",
    "| 4  |  4 |\n",
    "| 6  |  4 |\n",
    "| 8  |  5 |\n",
    "| 9  |  7 |\n",
    "| 11 |  8 |\n",
    "| 14 |  13 |"
   ]
  },
  {
   "cell_type": "markdown",
   "metadata": {},
   "source": [
    "We want to know if the relationship modeled by the two random variables is linear or not, and therefore if it is appropriate to model it with a linear regression. \n",
    "First, build a dataframe with the data. "
   ]
  },
  {
   "cell_type": "code",
   "execution_count": 48,
   "metadata": {},
   "outputs": [
    {
     "name": "stdout",
     "output_type": "stream",
     "text": [
      "   People_Invited  People_Attended\n",
      "0               1                1\n",
      "1               3                2\n",
      "2               4                4\n",
      "3               6                4\n",
      "4               8                5\n",
      "5               9                7\n",
      "6              11                8\n",
      "7              14               13\n"
     ]
    }
   ],
   "source": [
    "import pandas as pd\n",
    "\n",
    "# Define the data\n",
    "X = [1, 3, 4, 6, 8, 9, 11, 14]\n",
    "Y = [1, 2, 4, 4, 5, 7, 8, 13]\n",
    "\n",
    "# Build the DataFrame\n",
    "party_data = pd.DataFrame({\n",
    "    'People_Invited': X,\n",
    "    'People_Attended': Y\n",
    "})\n",
    "\n",
    "# Display the DataFrame\n",
    "print(party_data)\n"
   ]
  },
  {
   "cell_type": "markdown",
   "metadata": {},
   "source": [
    "Draw a dispersion diagram (scatter plot) for the data, and fit a regression line."
   ]
  },
  {
   "cell_type": "code",
   "execution_count": 49,
   "metadata": {},
   "outputs": [
    {
     "data": {
      "image/png": "[encoded data removed]",
      "text/plain": [
       "<Figure size 640x480 with 1 Axes>"
      ]
     },
     "metadata": {},
     "output_type": "display_data"
    }
   ],
   "source": [
    "X = party_data[\"People_Invited\"]\n",
    "Y = party_data[\"People_Attended\"]\n",
    "\n",
    "X_array = np.array(X).reshape(-1, 1)\n",
    "Y_array = np.array(Y)\n",
    "\n",
    "model = LinearRegression()\n",
    "model.fit(X_array, Y_array)\n",
    "\n",
    "# Predictions\n",
    "Y_pred = model.predict(X_array)\n",
    "\n",
    "# Plot with regression line\n",
    "plt.scatter(X, Y, label=\"Actual\")\n",
    "plt.plot(X, Y_pred, color='red', label=\"Regression Line\")\n",
    "plt.xlabel(\"People Invited\")\n",
    "plt.ylabel(\"People Attended\")\n",
    "plt.title(\"Linear Regression: Invited vs Attended\")\n",
    "plt.legend()\n",
    "plt.show()\n"
   ]
  },
  {
   "cell_type": "markdown",
   "metadata": {},
   "source": [
    "What do you see? What does this plot tell you about the likely relationship between the variables? Print the results from your regression."
   ]
  },
  {
   "cell_type": "code",
   "execution_count": 50,
   "metadata": {},
   "outputs": [
    {
     "name": "stdout",
     "output_type": "stream",
     "text": [
      "R² Score: 0.9316696375519905\n",
      "Coefficient: 0.8484848484848485\n",
      "Intercept: -0.43939393939393945\n"
     ]
    }
   ],
   "source": [
    "from sklearn.metrics import r2_score\n",
    "\n",
    "r2 = r2_score(Y_array, Y_pred)\n",
    "print(\"R² Score:\", r2)\n",
    "print(\"Coefficient:\", model.coef_[0])\n",
    "print(\"Intercept:\", model.intercept_)"
   ]
  },
  {
   "cell_type": "markdown",
   "metadata": {},
   "source": [
    "R² Score: 0.9317\n",
    "\n",
    "→ This means your model explains about 93.2% of the variance in attendance.\n",
    "\n",
    "→ That's a very strong fit, the number of people you invite is a reliable predictor of how many show up.\n",
    "\n",
    "\n",
    "Coefficient (slope): 0.8485\n",
    "\n",
    "→ For every additional person you invite, about 0.85 people attend.\n",
    "what \n",
    "→ This supports your hunch: inviting more people doesn't lead to a 1-to-1 increase in attendance.\n",
    "\n",
    "\n",
    "Intercept: -0.4394\n",
    "\n",
    "→ This is the predicted number of attendees when zero people are invited.\n",
    "\n",
    "→ Not meaningful in practice, but mathematically necessary for the regression line.\n"
   ]
  },
  {
   "cell_type": "markdown",
   "metadata": {},
   "source": []
  },
  {
   "cell_type": "markdown",
   "metadata": {},
   "source": [
    "Do you see any problematic points, or outliers, in your data? Remove these points and recalculate your regression. Print the new dispersion diagram with your new model and the results of your model. "
   ]
  },
  {
   "cell_type": "code",
   "execution_count": 51,
   "metadata": {},
   "outputs": [
    {
     "data": {
      "image/png": "[encoded data removed]",
      "text/plain": [
       "<Figure size 640x480 with 1 Axes>"
      ]
     },
     "metadata": {},
     "output_type": "display_data"
    },
    {
     "name": "stdout",
     "output_type": "stream",
     "text": [
      "Filtered R² Score: 0.9433811802232854\n",
      "Filtered Coefficient: 0.6842105263157896\n",
      "Filtered Intercept: 0.32330827067669077\n"
     ]
    }
   ],
   "source": [
    "# Step 1: Predict and calculate residuals\n",
    "Y_pred = model.predict(X_array)\n",
    "residuals = Y_array - Y_pred\n",
    "abs_residuals = np.abs(residuals)\n",
    "\n",
    "# Step 2: Define threshold for outliers\n",
    "threshold = np.mean(abs_residuals) + 1.5 * np.std(abs_residuals)\n",
    "\n",
    "# Step 3: Filter out outliers\n",
    "mask = abs_residuals < threshold\n",
    "X_filtered = X_array[mask]\n",
    "Y_filtered = Y_array[mask]\n",
    "\n",
    "# Step 4: Refit model on filtered data\n",
    "filtered_model = LinearRegression()\n",
    "filtered_model.fit(X_filtered, Y_filtered)\n",
    "Y_filtered_pred = filtered_model.predict(X_filtered)\n",
    "\n",
    "# Step 5: Plot new regression\n",
    "import matplotlib.pyplot as plt\n",
    "\n",
    "plt.scatter(X_filtered, Y_filtered, label=\"Filtered Data\")\n",
    "plt.plot(X_filtered, Y_filtered_pred, color='red', label=\"Filtered Regression Line\")\n",
    "plt.xlabel(\"People Invited\")\n",
    "plt.ylabel(\"People Attended\")\n",
    "plt.title(\"Regression After Removing Outliers\")\n",
    "plt.legend()\n",
    "plt.show()\n",
    "\n",
    "# Step 6: Print new model results\n",
    "from sklearn.metrics import r2_score\n",
    "\n",
    "print(\"Filtered R² Score:\", r2_score(Y_filtered, Y_filtered_pred))\n",
    "print(\"Filtered Coefficient:\", filtered_model.coef_[0])\n",
    "print(\"Filtered Intercept:\", filtered_model.intercept_)"
   ]
  },
  {
   "cell_type": "markdown",
   "metadata": {},
   "source": [
    "What changed? Based on the results of the two models and your graphs, what can you say about the form of the data with the problematic point and without it?"
   ]
  },
  {
   "cell_type": "markdown",
   "metadata": {},
   "source": [
    "What This Tells Us About the Form of the Data\n",
    "\n",
    "With the Outlier(s):\n",
    "\n",
    "The data still followed a linear trend, but the regression line was dragged down by one or two parties with unusually low attendance.\n",
    "\n",
    "These points introduced noise, making the model slightly less accurate and underestimating typical attendance.\n",
    "\n",
    "##\n",
    "Without the Outlier(s):\n",
    "\n",
    "The data forms a cleaner linear pattern.\n",
    "\n",
    "The model now reflects the true relationship: inviting more people generally leads to more attendees, and the rate is closer to 1-to-1.\n",
    "\n",
    "The variance is lower, and predictions are more reliable."
   ]
  },
  {
   "cell_type": "markdown",
   "metadata": {},
   "source": [
    "Removing the problematic points didn’t change the form of the relationship — it’s still linear — but it sharpened the clarity of that relationship. Your model now better represents the typical behavior of your guests.\n"
   ]
  },
  {
   "cell_type": "markdown",
   "metadata": {},
   "source": []
  },
  {
   "cell_type": "code",
   "execution_count": null,
   "metadata": {},
   "outputs": [],
   "source": []
  },
  {
   "cell_type": "markdown",
   "metadata": {},
   "source": [
    "Predicting Outcomes with New Data"
   ]
  },
  {
   "cell_type": "code",
   "execution_count": 52,
   "metadata": {},
   "outputs": [
    {
     "name": "stdout",
     "output_type": "stream",
     "text": [
      "[ 8.04545455 12.28787879 16.53030303]\n"
     ]
    }
   ],
   "source": [
    "# New data: number of people you plan to invite\n",
    "new_invites = np.array([10, 15, 20]).reshape(-1, 1)\n",
    "\n",
    "# Predict attendance\n",
    "predicted_attendance = model.predict(new_invites)\n",
    "\n",
    "print(predicted_attendance)\n"
   ]
  },
  {
   "cell_type": "markdown",
   "metadata": {},
   "source": [
    "Attendance = −0.4394 + 0.8485 ⋅ Invited"
   ]
  },
  {
   "cell_type": "markdown",
   "metadata": {},
   "source": [
    "| People Invited | Predicted Attendance |\n",
    "|----------------|----------------------|\n",
    "| 10             | ≈ 8.05 people        |\n",
    "| 15             | ≈ 12.29 people       |\n",
    "| 20             | ≈ 16.52 people       |\n"
   ]
  },
  {
   "cell_type": "markdown",
   "metadata": {},
   "source": []
  }
 ],
 "metadata": {
  "kernelspec": {
   "display_name": "base",
   "language": "python",
   "name": "python3"
  },
  "language_info": {
   "codemirror_mode": {
    "name": "ipython",
    "version": 3
   },
   "file_extension": ".py",
   "mimetype": "text/x-python",
   "name": "python",
   "nbconvert_exporter": "python",
   "pygments_lexer": "ipython3",
   "version": "3.13.5"
  }
 },
 "nbformat": 4,
 "nbformat_minor": 2
}
